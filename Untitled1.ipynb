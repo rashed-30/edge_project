{
  "nbformat": 4,
  "nbformat_minor": 0,
  "metadata": {
    "colab": {
      "provenance": [],
      "authorship_tag": "ABX9TyP7rVnt/xpqJn8Vhn5ZmDo3",
      "include_colab_link": true
    },
    "kernelspec": {
      "name": "python3",
      "display_name": "Python 3"
    },
    "language_info": {
      "name": "python"
    }
  },
  "cells": [
    {
      "cell_type": "markdown",
      "metadata": {
        "id": "view-in-github",
        "colab_type": "text"
      },
      "source": [
        "<a href=\"https://colab.research.google.com/github/rashed-30/edge_project/blob/main/Untitled1.ipynb\" target=\"_parent\"><img src=\"https://colab.research.google.com/assets/colab-badge.svg\" alt=\"Open In Colab\"/></a>"
      ]
    },
    {
      "cell_type": "code",
      "execution_count": null,
      "metadata": {
        "id": "VNWthu1TRdZ6"
      },
      "outputs": [],
      "source": [
        "s_data = [\n",
        "    [\"Student Name\", \"Student ID\", \"Subject\", \"Score\", \"Attendance Percentage\", \"Assignment Completion\"],\n",
        "    [\"Rashed\", \"ST001\", \"Physics\", \"98\", \"100\", \"Yes\"],\n",
        "    [\"Rashed\", \"ST001\", \"Chemistry\", \"99\", \"100\", \"Yes\"],\n",
        "    [\"Rashed\", \"ST001\", \"Biology\", \"97\", \"100\", \"Yes\"],\n",
        "    [\"Rashed\", \"ST001\", \"Math\", \"96\", \"100\", \"Yes\"],\n",
        "    [\"Someone\", \"ST002\", \"Physics\", \"68\", \"100\", \"No\"],\n",
        "    [\"Someone\", \"ST002\", \"Chemistry\", \"31\", \"70\", \"No\"],\n",
        "    [\"Someone\", \"ST002\", \"Biology\", \"54\", \"100\", \"Yes\"],\n",
        "    [\"Someone\", \"ST002\", \"Math\", \"96\", \"60\", \"Yes\"],\n",
        "    [\"Someother\", \"ST003\", \"Physics\", \"98\", \"100\", \"Yes\"],\n",
        "    [\"Someother\", \"ST003\", \"Chemistry\", \"99\", \"100\", \"Yes\"]\n",
        "]"
      ]
    },
    {
      "cell_type": "markdown",
      "source": [],
      "metadata": {
        "id": "jBE8HmScRoq6"
      }
    }
  ]
}